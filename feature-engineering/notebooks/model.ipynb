{
 "cells": [
  {
   "cell_type": "markdown",
   "source": [
    "# Feature engineering\n",
    "\n",
    "## Introduction\n",
    "We always look at a round from the point of view of team_1.\n",
    "\n",
    "## Features: \n",
    "- **target**: team_1 won the round\n",
    "- **kills**: Amount of players killed by team_1\n",
    "- **deaths**: Amount of players that died from team_1\n",
    "- **equipment_value_ratio**: Total equipment value compared to equipment value of team_2. *This is better than saving the equipment values from both the teams. $650 in a pistol round is normal. $650 in round 10 can probably be considered as a saving round.*\n",
    "- **first_kill**: Did team_1 make the first kill. Making the first kill results in a higher chance of winning the round.\n",
    "\n",
    "# Features to implement\n",
    "- **defuse_kit_count**: Amount of defusekits. \n",
    "  - **values**: [None,0,1,2,3,4,5] (None when team_1 are terrorists)\n",
    "- **alive_ratio_on_bomb_planted**: Amount of players alive from team_1 compared to players alive from team_2 when the bomb is planted.\n",
    "- **distance_from_bomb_on_plant**: Average distance from team_1 when bomb is planted. (Maybe they are already saving)\n",
    "\n",
    "\n"
   ],
   "metadata": {}
  },
  {
   "cell_type": "code",
   "execution_count": 4,
   "source": [
    "import matplotlib.pyplot as plt\n",
    "import numpy as np\n",
    "import pandas as pd\n",
    "\n"
   ],
   "outputs": [],
   "metadata": {}
  },
  {
   "cell_type": "code",
   "execution_count": null,
   "source": [],
   "outputs": [],
   "metadata": {}
  },
  {
   "cell_type": "code",
   "execution_count": 6,
   "source": [
    "# Feature engineering\n",
    "from feature_engineering.db import get_collections\n",
    "from feature_engineering.round import Round\n",
    "from dataclasses import make_dataclass\n",
    "\n",
    "collections = get_collections()\n",
    "\n",
    "\n",
    "dc_round = make_dataclass(\"Round\", [\n",
    "(\"kills\", int),\n",
    "(\"deaths\", int),\n",
    "(\"first_blood\")\n",
    "(\"round_winstreak\", int),\n",
    "(\"defuse_kit_count\", int),\n",
    "(\"target\", bool)\n",
    "])\n",
    "\n",
    "dataset = pd.DataFrame([])\n",
    "matches = collections[\"matches\"].find({})\n",
    "round_winstreak = 0\n",
    "\n",
    "for match in matches:\n",
    "  team_1_id = match.teams[0]\n",
    "  for round_id in match.rounds:\n",
    "    round = Round(collections=collections,round_id=round_id,team_id=team_1_id)\n",
    "    (kills, deaths) = round.kills_and_deaths()\n",
    "\n",
    "    # winner\n",
    "    if round.is_win() :\n",
    "      round_winstreak+= 1\n",
    "    else:\n",
    "      round_winstreak=0\n",
    "\n",
    "  dataset.append(\n",
    "    dc_round(\n",
    "      kills=kills,\n",
    "      deaths=deaths,\n",
    "      first_blood=round.first_blood(),\n",
    "      round_winstreak=round_winstreak,\n",
    "      target=round.is_win()\n",
    "    )\n",
    "  )\n"
   ],
   "outputs": [
    {
     "output_type": "error",
     "ename": "SyntaxError",
     "evalue": "unexpected EOF while parsing (1183308413.py, line 34)",
     "traceback": [
      "\u001b[0;36m  File \u001b[0;32m\"/tmp/ipykernel_226131/1183308413.py\"\u001b[0;36m, line \u001b[0;32m34\u001b[0m\n\u001b[0;31m    )\u001b[0m\n\u001b[0m     ^\u001b[0m\n\u001b[0;31mSyntaxError\u001b[0m\u001b[0;31m:\u001b[0m unexpected EOF while parsing\n"
     ]
    }
   ],
   "metadata": {}
  },
  {
   "cell_type": "code",
   "execution_count": null,
   "source": [],
   "outputs": [],
   "metadata": {}
  },
  {
   "cell_type": "code",
   "execution_count": null,
   "source": [],
   "outputs": [],
   "metadata": {}
  },
  {
   "cell_type": "markdown",
   "source": [],
   "metadata": {}
  },
  {
   "cell_type": "code",
   "execution_count": null,
   "source": [],
   "outputs": [],
   "metadata": {}
  },
  {
   "cell_type": "code",
   "execution_count": null,
   "source": [
    "\n"
   ],
   "outputs": [],
   "metadata": {}
  }
 ],
 "metadata": {
  "interpreter": {
   "hash": "3b79c3240194adbebd72f3b571c438b3889b54d25dc18e30917c21f66f5bd364"
  },
  "kernelspec": {
   "name": "python3",
   "display_name": "Python 3.8.8 64-bit ('feature-engineering-IeZcESBt-py3.8': poetry)"
  },
  "language_info": {
   "codemirror_mode": {
    "name": "ipython",
    "version": 3
   },
   "file_extension": ".py",
   "mimetype": "text/x-python",
   "name": "python",
   "nbconvert_exporter": "python",
   "pygments_lexer": "ipython3",
   "version": "3.8.8"
  }
 },
 "nbformat": 4,
 "nbformat_minor": 4
}