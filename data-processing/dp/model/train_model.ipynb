{
 "cells": [
  {
   "cell_type": "markdown",
   "metadata": {},
   "source": [
    "# Feature engineering\n",
    "\n",
    "## Introduction\n",
    "We always look at a round from the point of view of **team_1**.\n",
    "\n",
    "## Features: \n",
    "- **target**: team_1 won the round\n",
    "- **kills**: Amount of players killed by team_1\n",
    "- **deaths**: Amount of players that died from team_1\n",
    "- **equipment_value_ratio**: Total equipment value compared to equipment value of team_2. *This is better than saving the equipment values from both the teams. $650 in a pistol round is normal. $650 in round 10 can probably be considered as a saving round.*\n",
    "- **first_kill**: Did team_1 make the first kill. Making the first kill results in a higher chance of winning the round.\n",
    "- **map**: maybe there are more clutches on Mirage?\n",
    "- **damage_done**: Amount of damage team1 did to team2\n",
    "- **damage_taken**: Amount of damage team2 did to team1\n",
    "- **median_player_health**: Median health of all players of the team.\n",
    "- **is_bomb_planted**: Is the bomb planted. We can view this in the bombchangesevents.\n",
    "- **alive_ratio_on_bomb_planted**: Amount of players alive from team_1 compared to players alive from team_2 when the bomb is planted.\n",
    "\n",
    "# Features to implement\n",
    "- **distance_from_bomb_on_plant**: Average distance from team_1 when bomb is planted. (Maybe they are already saving)\n",
    "- **defuse_kit_count**: Amount of defusekits. (\n",
    "- **utility**: [TODO]\n"
   ]
  },
  {
   "cell_type": "code",
   "execution_count": 86,
   "metadata": {},
   "outputs": [],
   "source": [
    "import numpy as np\n",
    "import pandas as pd\n",
    "\n",
    "import os\n",
    "import sys\n",
    "module_path = os.path.abspath(os.path.join(os.pardir, os.pardir))\n",
    "if module_path not in sys.path:\n",
    "    sys.path.append(module_path)\n"
   ]
  },
  {
   "cell_type": "code",
   "execution_count": 73,
   "metadata": {},
   "outputs": [
    {
     "name": "stdout",
     "output_type": "stream",
     "text": [
      "Parsed rounds: 14796\n"
     ]
    }
   ],
   "source": [
    "# Feature engineering\n",
    "from dp.database.mongo import get_collections\n",
    "import parser\n",
    "from bson.objectid import ObjectId\n",
    "from sklearn.model_selection import train_test_split\n",
    "\n",
    "collections = get_collections()\n",
    "Round = parser.Round.dataclass()\n",
    "\n",
    "parsed_rounds = []\n",
    "target = []\n",
    "matches = collections[\"matches\"].find({})\n",
    "\n",
    "# MATCH\n",
    "for match_idx, match in enumerate(matches):\n",
    "  round_winstreak = 0\n",
    "  team_1_id = match[\"teams\"][0]\n",
    "\n",
    "  # ROUND\n",
    "  for round_idx, round_id in enumerate(match[\"rounds\"]):\n",
    "    # Sometimes a round is not parsed correctly and the data is not available.\n",
    "    round = collections[\"rounds\"].find_one({ \"_id\": ObjectId(round_id)})\n",
    "    if round is None:\n",
    "      continue\n",
    "\n",
    "    # Create a set of 4 ticks: @35%,@50%,@75%,@100%. To learn the model it does not always has the information of the entire round.\n",
    "    duration = round[\"endTick\"] - round[\"startTick\"]\n",
    "    ticks = list(map(lambda n: round[\"startTick\"] + duration*n,[.35,.5,.75,1]))\n",
    "\n",
    "    # We should only change this once every round. Not for the multiple tick points we check.\n",
    "    round = parser.Round(round_id,team_1_id,round[\"endTick\"],round_idx, match[\"map\"])\n",
    "\n",
    "    if round.is_win():\n",
    "      round_winstreak+= 1\n",
    "    else:\n",
    "      round_winstreak=0\n",
    "\n",
    "    for tick in ticks:\n",
    "      round = parser.Round(round_id,team_1_id, tick, round_idx, match[\"map\"])\n",
    "      (kills, deaths) = round.kills_and_deaths()\n",
    "      target.append(1) if round.is_win() else target.append(0)\n",
    "\n",
    "      (ct_winrate,t_winrate) = round.map_winrate()\n",
    "      (damage_given, damage_taken) = round.damage()\n",
    "\n",
    "      # bomb plant must be checked before players (cause we depend on the bomb plant tick, which is exposed after is_bomb_planted)\n",
    "      is_bomb_planted = round.is_bomb_planted()\n",
    "      (team_alive_on_plant, enemy_alive_on_plant) = round.players_alive_on_plant()\n",
    "\n",
    "      parsed_rounds.append(\n",
    "        Round(\n",
    "          kills=kills,\n",
    "          deaths=deaths,\n",
    "          first_blood=round.is_first_blood(),\n",
    "          round_winstreak=round_winstreak,\n",
    "          bomb_planted=is_bomb_planted,\n",
    "          is_terrorist=round.is_terrorist(),\n",
    "          counter_terrorist_map_winrate= ct_winrate,\n",
    "          terrorist_map_winrate= t_winrate,\n",
    "          damage_given = damage_given,\n",
    "          damage_taken= damage_taken,\n",
    "          team_alive_on_plant=team_alive_on_plant,\n",
    "          enemy_alive_on_plant=enemy_alive_on_plant,\n",
    "          )\n",
    "      )\n",
    "\n",
    "print(\"Parsed rounds:\", len(parsed_rounds))\n",
    "data = pd.DataFrame(parsed_rounds)\n"
   ]
  },
  {
   "cell_type": "code",
   "execution_count": 91,
   "metadata": {},
   "outputs": [
    {
     "name": "stdout",
     "output_type": "stream",
     "text": [
      "Index(['kills', 'deaths', 'round_winstreak', 'bomb_planted', 'is_terrorist',\n",
      "       'counter_terrorist_map_winrate', 'terrorist_map_winrate',\n",
      "       'damage_given', 'damage_taken', 'team_alive_on_plant',\n",
      "       'enemy_alive_on_plant', 'first_blood__0.0', 'first_blood__1.0',\n",
      "       'first_blood__nan'],\n",
      "      dtype='object')\n"
     ]
    }
   ],
   "source": [
    "# Keep this separate otherwise the we can't rerun the cell above.\n",
    "processed_data = parser.preprocessing(data)\n",
    "print(processed_data.columns)"
   ]
  },
  {
   "cell_type": "code",
   "execution_count": 87,
   "metadata": {},
   "outputs": [
    {
     "name": "stdout",
     "output_type": "stream",
     "text": [
      "       kills  deaths  round_winstreak  bomb_planted  is_terrorist  \\\n",
      "1584       2       0                0             0             0   \n",
      "10678      2       1                1             0             1   \n",
      "12628      0       0                2             0             1   \n",
      "9570       4       1                1             1             0   \n",
      "1975       0       5                2             0             1   \n",
      "...      ...     ...              ...           ...           ...   \n",
      "5191       5       1                1             0             0   \n",
      "13418      4       2                0             0             0   \n",
      "5390       3       2                0             1             1   \n",
      "860        0       0                0             1             0   \n",
      "7270       3       2                3             0             1   \n",
      "\n",
      "        counter_terrorist_map_winrate           terrorist_map_winrate  \\\n",
      "1584   0.4897959183673469387755102041  0.5102040816326530612244897959   \n",
      "10678  0.5693069306930693069306930693  0.4306930693069306930693069307   \n",
      "12628  0.5693069306930693069306930693  0.4306930693069306930693069307   \n",
      "9570   0.5693069306930693069306930693  0.4306930693069306930693069307   \n",
      "1975   0.5319516407599309153713298791  0.4680483592400690846286701209   \n",
      "...                               ...                             ...   \n",
      "5191   0.5693069306930693069306930693  0.4306930693069306930693069307   \n",
      "13418  0.5319516407599309153713298791  0.4680483592400690846286701209   \n",
      "5390   0.4954682779456193353474320242  0.5045317220543806646525679758   \n",
      "860    0.5319516407599309153713298791  0.4680483592400690846286701209   \n",
      "7270   0.4897959183673469387755102041  0.5102040816326530612244897959   \n",
      "\n",
      "       damage_given  damage_taken  team_alive_on_plant  enemy_alive_on_plant  \\\n",
      "1584              0             0                    0                     0   \n",
      "10678             0             0                    0                     0   \n",
      "12628             0             0                    0                     0   \n",
      "9570              0             0                    4                     1   \n",
      "1975              0             0                    0                     0   \n",
      "...             ...           ...                  ...                   ...   \n",
      "5191              0             0                    0                     0   \n",
      "13418             0             0                    0                     0   \n",
      "5390              0             0                    3                     2   \n",
      "860               0             0                    4                     5   \n",
      "7270              0             0                    0                     0   \n",
      "\n",
      "       first_blood__0.0  first_blood__1.0  first_blood__nan  \n",
      "1584                  0                 1                 0  \n",
      "10678                 1                 0                 0  \n",
      "12628                 0                 0                 1  \n",
      "9570                  0                 1                 0  \n",
      "1975                  1                 0                 0  \n",
      "...                 ...               ...               ...  \n",
      "5191                  0                 1                 0  \n",
      "13418                 0                 1                 0  \n",
      "5390                  0                 1                 0  \n",
      "860                   0                 0                 1  \n",
      "7270                  0                 1                 0  \n",
      "\n",
      "[10357 rows x 14 columns]\n"
     ]
    }
   ],
   "source": [
    "# We should how diverse our dataset is. If in 80% of our games team_1 wins.\n",
    "# We will learn the model that it can always pick team_1 and get an accuracy of 80%. We don't want that :)\n",
    "\n",
    "# Split the data in training and testing data\n",
    "train_X,test_X, train_Y, test_Y = train_test_split(processed_data,target,test_size=0.3, random_state=42)\n",
    "print(train_X)\n"
   ]
  },
  {
   "cell_type": "markdown",
   "metadata": {},
   "source": [
    "# Hyperparameter tuning\n",
    "With SVM we try to find the maximum margin separator between our two classes (team_1_wins, team_2_wins). This is the line the furtest from the nearest training data points. SVM calculates the distance to the closest datapoint for each possible line and picks the one with the highest distance. This makes an SVM a **maximum margin estimator. \n",
    "\n",
    "In most real probelms, it is not possible to find the perfect separating plane. Sometimes there are datapoints that are not closer to the other class. To handle this we allow the SVM to soften the margin. Which means we allow some of the points to creep into the margin if that allows a better fit. This transforms our SVM into a soft-margin classifier since we are allowing for a few mistakes. This is typically called C.\n",
    "\n",
    "C is a hyperparameter that needs to be tuned based on the dataset."
   ]
  },
  {
   "cell_type": "code",
   "execution_count": 88,
   "metadata": {},
   "outputs": [
    {
     "data": {
      "text/plain": [
       "GridSearchCV(estimator=SVC(probability=True, random_state=42),\n",
       "             param_grid={'C': range(1, 20),\n",
       "                         'kernel': ['linear', 'rbf', 'sigmoid']})"
      ]
     },
     "execution_count": 88,
     "metadata": {},
     "output_type": "execute_result"
    }
   ],
   "source": [
    "from sklearn import svm\n",
    "from sklearn.model_selection import GridSearchCV\n",
    "\n",
    "parameters = {\n",
    "  \"kernel\": [\"linear\",\"rbf\", \"sigmoid\"],\n",
    "  \"C\": range(1,20),\n",
    "}\n",
    "\n",
    "# Not completely sure what this degree is doing.\n",
    "clf = GridSearchCV(svm.SVC(probability=True, random_state=42, degree=3), parameters)\n",
    "clf.fit(train_X, train_Y)\n"
   ]
  },
  {
   "cell_type": "code",
   "execution_count": 82,
   "metadata": {},
   "outputs": [
    {
     "name": "stdout",
     "output_type": "stream",
     "text": [
      "accuracy:100.0%\n",
      "f1 score:1.0%\n",
      "report:               precision    recall  f1-score   support\n",
      "\n",
      "           0       1.00      1.00      1.00      1401\n",
      "           1       1.00      1.00      1.00      1559\n",
      "\n",
      "    accuracy                           1.00      2960\n",
      "   macro avg       1.00      1.00      1.00      2960\n",
      "weighted avg       1.00      1.00      1.00      2960\n",
      "\n"
     ]
    },
    {
     "data": {
      "image/png": "[encoded data removed]",
      "text/plain": [
       "<Figure size 432x288 with 2 Axes>"
      ]
     },
     "metadata": {
      "needs_background": "light"
     },
     "output_type": "display_data"
    }
   ],
   "source": [
    "# This is still crappp\n",
    "from sklearn.metrics import accuracy_score, confusion_matrix, f1_score, classification_report\n",
    "import seaborn\n",
    "\n",
    "# Performance metrics\n",
    "predictions = clf.predict(test_X)\n",
    "\n",
    "accuracy = accuracy_score(test_Y, predictions, normalize=True)\n",
    "print(f\"accuracy:{accuracy*100}%\")\n",
    "\n",
    "f1_score = f1_score(test_Y, predictions)\n",
    "print(f\"f1 score:{f1_score}%\")\n",
    "\n",
    "report = classification_report(test_Y, predictions)\n",
    "print(f\"report: {report}\")\n",
    "\n",
    "cf_matrix = confusion_matrix(test_Y, predictions)\n",
    "seaborn.heatmap(cf_matrix, annot=True, cmap=\"Blues\")\n",
    "\n",
    "probabilities = clf.predict_proba(test_X)\n"
   ]
  },
  {
   "cell_type": "code",
   "execution_count": 90,
   "metadata": {},
   "outputs": [],
   "source": [
    "import pickle\n",
    "\n",
    "# Dump model to disk\n",
    "try:\n",
    "  filename = \"../model/model.sav\"\n",
    "  pickle.dump(clf, open(filename, 'wb'))\n",
    "except pickle.PickleError:\n",
    "  print(\"Could not dump model.\")\n",
    "\n",
    "\n"
   ]
  },
  {
   "cell_type": "markdown",
   "metadata": {},
   "source": [
    "# Live demo parsing\n",
    "\n",
    "A second part, we unfortunately had no time to implement, is **live demo parsing**.\n",
    "\n",
    "We need to start by creating a probability N by N matrix, with N the different states.\n",
    "This is also called a ** stochastic matrix**. Each combination of a row(x) and a column(y) is the probability to go from stateX to stateY.\n",
    "\n",
    "Since we eventually want to find the winner of a game we also need something called absorbing states. **An absorbing state is a state that, once entered, cannot be left**: In this case [\"team1_wins\", \"team2_wins\"]\n"
   ]
  }
 ],
 "metadata": {
  "interpreter": {
   "hash": "e9519646abc2e0e7739cfad8b744ccd4e52cdd56124172c9e82b53705439f89c"
  },
  "kernelspec": {
   "display_name": "Python 3.8.8 64-bit ('feature-engineering-2ymDjXYb-py3.8': poetry)",
   "name": "python3"
  },
  "language_info": {
   "codemirror_mode": {
    "name": "ipython",
    "version": 3
   },
   "file_extension": ".py",
   "mimetype": "text/x-python",
   "name": "python",
   "nbconvert_exporter": "python",
   "pygments_lexer": "ipython3",
   "version": "3.8.8"
  }
 },
 "nbformat": 4,
 "nbformat_minor": 4
}
